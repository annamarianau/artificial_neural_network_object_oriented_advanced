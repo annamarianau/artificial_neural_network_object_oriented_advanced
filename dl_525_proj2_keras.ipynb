{
 "cells": [
  {
   "cell_type": "code",
   "execution_count": 145,
   "metadata": {},
   "outputs": [],
   "source": [
    "import tensorflow as tf\n",
    "from tensorflow import keras\n",
    "from tensorflow.keras.models import Sequential\n",
    "from tensorflow.keras import layers\n",
    "import numpy as np"
   ]
  },
  {
   "cell_type": "markdown",
   "metadata": {},
   "source": [
    "# Example 1"
   ]
  },
  {
   "cell_type": "markdown",
   "metadata": {},
   "source": [
    "Convolutional Neural Network with 2D Input\n",
    "Input: 5x5\n",
    "Con2D: Kernel=1, Size=3x3, Stride=1\n",
    "Flatten:\n",
    "SingleNeuron:"
   ]
  },
  {
   "cell_type": "code",
   "execution_count": 225,
   "metadata": {},
   "outputs": [],
   "source": [
    "# create input data\n",
    "x_train = np.array([[0.02, 0.21, 0.07, 0.17, 0.78],\n",
    "                          [0.09, 0.25, 0.78, 0.04, 0.24],\n",
    "                          [0.97, 0.29, 0.37, 0.27, 0.82],\n",
    "                          [1.00, 0.29, 0.75, 0.62, 0.56],\n",
    "                          [0.88, 0.65, 0.09, 0.99, 0.87]])\n",
    "x_train = x_train.reshape((1,5,5,1))\n",
    "y_train = np.array([0.5])"
   ]
  },
  {
   "cell_type": "code",
   "execution_count": 226,
   "metadata": {},
   "outputs": [],
   "source": [
    "# create weights/bias for dense layer\n",
    "dense_weights = np.array([[0.99, 0.93, 0.83, 0.49, 0.59, 0.3, 0.96, 0.72, 0.8]])\n",
    "dense_weights = dense_weights.reshape(9,1)\n",
    "dense_bias = np.array([1.5])\n",
    "dense_para = [dense_weights, dense_bias]"
   ]
  },
  {
   "cell_type": "code",
   "execution_count": 227,
   "metadata": {},
   "outputs": [],
   "source": [
    "# create weights/bias for convolutional layer\n",
    "Conv2D_weights = np.array([[[0.12, 0.89, 0.21], [0.04, 0.64, 0.13], [0.91, 0.05, 0.64]]])\n",
    "Conv2D_weights = Conv2D_weights.reshape(3,3,1,1)\n",
    "Conv2D_bias = np.array([1])\n",
    "Conv2D_para = [Conv2D_weights, Conv2D_bias]"
   ]
  },
  {
   "cell_type": "code",
   "execution_count": 228,
   "metadata": {},
   "outputs": [
    {
     "name": "stdout",
     "output_type": "stream",
     "text": [
      "Model: \"sequential_11\"\n",
      "_________________________________________________________________\n",
      "Layer (type)                 Output Shape              Param #   \n",
      "=================================================================\n",
      "conv2d_21 (Conv2D)           (None, 3, 3, 1)           10        \n",
      "_________________________________________________________________\n",
      "flatten_17 (Flatten)         (None, 9)                 0         \n",
      "_________________________________________________________________\n",
      "dense_17 (Dense)             (None, 1)                 10        \n",
      "=================================================================\n",
      "Total params: 20\n",
      "Trainable params: 20\n",
      "Non-trainable params: 0\n",
      "_________________________________________________________________\n",
      "None\n"
     ]
    }
   ],
   "source": [
    "# create model\n",
    "model = Sequential()\n",
    "model.add(layers.Conv2D(filters=1,kernel_size=3,strides=1,padding='valid',input_shape=(5,5,1),activation=\"sigmoid\"))\n",
    "model.layers[0].set_weights(Conv2D_para)\n",
    "model.add(layers.Flatten())\n",
    "model.add(layers.Dense(1, activation=\"sigmoid\"))\n",
    "model.layers[2].set_weights(dense_para)\n",
    "print(model.summary())"
   ]
  },
  {
   "cell_type": "code",
   "execution_count": 229,
   "metadata": {},
   "outputs": [],
   "source": [
    "# compile model (configure training process)\n",
    "model.compile(optimizer=keras.optimizers.SGD(learning_rate=0.5, momentum=0.0, nesterov=False), loss='mean_squared_error')"
   ]
  },
  {
   "cell_type": "code",
   "execution_count": 230,
   "metadata": {},
   "outputs": [
    {
     "name": "stdout",
     "output_type": "stream",
     "text": [
      "Train on 1 samples\n",
      "1/1 [==============================] - 0s 337ms/sample - loss: 0.2495\n"
     ]
    },
    {
     "data": {
      "text/plain": [
       "<tensorflow.python.keras.callbacks.History at 0x647904d50>"
      ]
     },
     "execution_count": 230,
     "metadata": {},
     "output_type": "execute_result"
    }
   ],
   "source": [
    "# fit model\n",
    "model.fit(x_train, y_train, epochs=1)"
   ]
  },
  {
   "cell_type": "code",
   "execution_count": 231,
   "metadata": {},
   "outputs": [
    {
     "name": "stdout",
     "output_type": "stream",
     "text": [
      "Fully Connected Layer:\n",
      "Weights: \n",
      " [[0.98977655]\n",
      " [0.9297864 ]\n",
      " [0.8297821 ]\n",
      " [0.48977062]\n",
      " [0.5897749 ]\n",
      " [0.29977748]\n",
      " [0.9597756 ]\n",
      " [0.71976924]\n",
      " [0.79977596]]\n",
      "Bias: [1.49976]\n",
      "\n",
      "Convolutional Layer:\n",
      "Weights: \n",
      " [[0.11996782 0.88997495 0.20996019]\n",
      " [0.03994639 0.6399565  0.12995407]\n",
      " [0.9099442  0.04995092 0.6399453 ]]\n",
      "Bias: [0.99989593]\n"
     ]
    }
   ],
   "source": [
    "# print final weights/bias per layer\n",
    "weights = model.layers[2].get_weights()[0]\n",
    "bias = model.layers[2].get_weights()[1]\n",
    "\n",
    "print('Fully Connected Layer:')\n",
    "print(\"Weights: \\n\", weights)\n",
    "print('Bias:', bias)\n",
    "print()\n",
    "\n",
    "weights = model.layers[0].get_weights()[0]\n",
    "weights = weights.reshape((3,3))\n",
    "bias = model.layers[0].get_weights()[1]\n",
    "\n",
    "print('Convolutional Layer:')\n",
    "print(\"Weights: \\n\", weights)\n",
    "print('Bias:', bias)"
   ]
  },
  {
   "cell_type": "markdown",
   "metadata": {},
   "source": [
    "# Example 2"
   ]
  },
  {
   "cell_type": "markdown",
   "metadata": {},
   "source": [
    "Convolutional Neural Network with 2D Input\n",
    "Input: 5x5\n",
    "Con2D: Kernel=1, Size=3x3, Stride=1\n",
    "Con2D: Kernel=1, Size=3x3, Stride=1\n",
    "Flatten:\n",
    "SingleNeuron:"
   ]
  },
  {
   "cell_type": "code",
   "execution_count": 232,
   "metadata": {},
   "outputs": [
    {
     "name": "stdout",
     "output_type": "stream",
     "text": [
      "(1, 5, 5, 1)\n",
      "(1,)\n"
     ]
    }
   ],
   "source": [
    "# create data\n",
    "x_train = np.array([[0.02, 0.21, 0.07, 0.17, 0.78],\n",
    "                          [0.09, 0.25, 0.78, 0.04, 0.24],\n",
    "                          [0.97, 0.29, 0.37, 0.27, 0.82],\n",
    "                          [1.00, 0.29, 0.75, 0.62, 0.56],\n",
    "                          [0.88, 0.65, 0.09, 0.99, 0.87]])\n",
    "x_train = x_train.reshape((1,5,5,1))\n",
    "y_train = np.array([0.5])\n",
    "\n",
    "print(x_train.shape)\n",
    "print(y_train.shape)"
   ]
  },
  {
   "cell_type": "code",
   "execution_count": 233,
   "metadata": {},
   "outputs": [],
   "source": [
    "# create weights/bias for dense layer\n",
    "dense_weights = np.array([[0.5]])\n",
    "dense_weights = dense_weights.reshape(1,1)\n",
    "dense_bias = np.array([1.5])\n",
    "dense_para = [dense_weights, dense_bias]"
   ]
  },
  {
   "cell_type": "code",
   "execution_count": 234,
   "metadata": {},
   "outputs": [],
   "source": [
    "# create weights/bias for 1st convolutional layer\n",
    "Conv2D_layer1_weights = np.array([[[0.12, 0.89, 0.21], [0.04, 0.64, 0.13], [0.91, 0.05, 0.64]]])\n",
    "Conv2D_layer1_weights = Conv2D_layer1_weights.reshape(3,3,1,1)\n",
    "Conv2D_layer1_bias = np.array([2])\n",
    "Conv2D_layer1_para = [Conv2D_layer1_weights, Conv2D_layer1_bias]"
   ]
  },
  {
   "cell_type": "code",
   "execution_count": 235,
   "metadata": {},
   "outputs": [],
   "source": [
    "# create weights/bias for 2nd convolutional layer\n",
    "Conv2D_layer2_weights = np.array([[[0.49, 0.98, 0.89], [0.46, 0.47, 0.44], [0.26, 0.65, 0.87]]])\n",
    "Conv2D_layer2_weights = Conv2D_layer2_weights.reshape(3,3,1,1)\n",
    "Conv2D_layer2_bias = np.array([2])\n",
    "Conv2D_layer2_para = [Conv2D_layer2_weights, Conv2D_layer2_bias]"
   ]
  },
  {
   "cell_type": "code",
   "execution_count": 236,
   "metadata": {},
   "outputs": [
    {
     "name": "stdout",
     "output_type": "stream",
     "text": [
      "Model: \"sequential_12\"\n",
      "_________________________________________________________________\n",
      "Layer (type)                 Output Shape              Param #   \n",
      "=================================================================\n",
      "conv2d_22 (Conv2D)           (None, 3, 3, 1)           10        \n",
      "_________________________________________________________________\n",
      "conv2d_23 (Conv2D)           (None, 1, 1, 1)           10        \n",
      "_________________________________________________________________\n",
      "flatten_18 (Flatten)         (None, 1)                 0         \n",
      "_________________________________________________________________\n",
      "dense_18 (Dense)             (None, 1)                 2         \n",
      "=================================================================\n",
      "Total params: 22\n",
      "Trainable params: 22\n",
      "Non-trainable params: 0\n",
      "_________________________________________________________________\n",
      "None\n"
     ]
    }
   ],
   "source": [
    "# create model\n",
    "model = Sequential()\n",
    "model.add(layers.Conv2D(filters=1,kernel_size=3,strides=1,padding='valid',input_shape=(5,5,1),activation=\"sigmoid\"))\n",
    "model.layers[0].set_weights(Conv2D_layer1_para)\n",
    "output = model.predict(x_train)\n",
    "model.add(layers.Conv2D(filters=1,kernel_size=3,strides=1,padding='valid',activation=\"sigmoid\"))\n",
    "model.layers[1].set_weights(Conv2D_layer2_para)\n",
    "model.add(layers.Flatten())\n",
    "model.add(layers.Dense(1, activation=\"sigmoid\"))\n",
    "model.layers[3].set_weights(dense_para)\n",
    "print(model.summary())"
   ]
  },
  {
   "cell_type": "code",
   "execution_count": 237,
   "metadata": {},
   "outputs": [],
   "source": [
    "# compile model (configure training process)\n",
    "model.compile(optimizer=keras.optimizers.SGD(learning_rate=0.5, momentum=0.0, nesterov=False), loss='mean_squared_error')"
   ]
  },
  {
   "cell_type": "code",
   "execution_count": 238,
   "metadata": {},
   "outputs": [
    {
     "name": "stdout",
     "output_type": "stream",
     "text": [
      "Train on 1 samples\n",
      "1/1 [==============================] - 0s 386ms/sample - loss: 0.1450\n"
     ]
    },
    {
     "data": {
      "text/plain": [
       "<tensorflow.python.keras.callbacks.History at 0x647d6fc10>"
      ]
     },
     "execution_count": 238,
     "metadata": {},
     "output_type": "execute_result"
    }
   ],
   "source": [
    "# fit model\n",
    "model.fit(x_train, y_train, epochs=1)"
   ]
  },
  {
   "cell_type": "code",
   "execution_count": 239,
   "metadata": {},
   "outputs": [
    {
     "name": "stdout",
     "output_type": "stream",
     "text": [
      "Fully Connected Layer:\n",
      "Weights: \n",
      " [[0.46003813]]\n",
      "Bias: [1.4600126]\n",
      "\n",
      "2nd Convolutional Layer:\n",
      "Weights: \n",
      " [[0.48998755 0.9799878  0.88998765]\n",
      " [0.45998743 0.4699875  0.43998757]\n",
      " [0.25998753 0.6499874  0.86998755]]\n",
      "Bias: [1.9999872]\n",
      "\n",
      "1st Convolutional Layer:\n",
      "Weights: \n",
      " [[0.11999948 0.88999957 0.20999917]\n",
      " [0.03999903 0.6399991  0.12999927]\n",
      " [0.90999913 0.04999909 0.63999885]]\n",
      "Bias: [1.9999981]\n"
     ]
    }
   ],
   "source": [
    "# print final weights/bias per layer\n",
    "# Fully connected layer\n",
    "weights = model.layers[3].get_weights()[0]\n",
    "bias = model.layers[3].get_weights()[1]\n",
    "\n",
    "print('Fully Connected Layer:')\n",
    "print(\"Weights: \\n\", weights)\n",
    "print('Bias:', bias)\n",
    "print()\n",
    "\n",
    "# 2nd Conv layer\n",
    "weights = model.layers[1].get_weights()[0]\n",
    "weights = weights.reshape((3,3))\n",
    "bias = model.layers[1].get_weights()[1]\n",
    "\n",
    "print('2nd Convolutional Layer:')\n",
    "print(\"Weights: \\n\", weights)\n",
    "print('Bias:', bias)\n",
    "print()\n",
    "\n",
    "# 1st Conv layer\n",
    "weights = model.layers[0].get_weights()[0]\n",
    "weights = weights.reshape((3,3))\n",
    "bias = model.layers[0].get_weights()[1]\n",
    "\n",
    "print('1st Convolutional Layer:')\n",
    "print(\"Weights: \\n\", weights)\n",
    "print('Bias:', bias)"
   ]
  },
  {
   "cell_type": "markdown",
   "metadata": {},
   "source": [
    "# Example 3"
   ]
  },
  {
   "cell_type": "markdown",
   "metadata": {},
   "source": [
    "Convolutional Neural Network with 2D Input\n",
    "Input: 5x5\n",
    "Con2D: Kernel=1, Size=3x3, Stride=1\n",
    "Max: Kernel=1, Size=2x2, Stride=2\n",
    "Flatten:\n",
    "SingleNeuron:"
   ]
  },
  {
   "cell_type": "code",
   "execution_count": 217,
   "metadata": {},
   "outputs": [
    {
     "name": "stdout",
     "output_type": "stream",
     "text": [
      "(1, 6, 6, 1)\n",
      "(1,)\n"
     ]
    }
   ],
   "source": [
    "# create data\n",
    "x_train_example3 = np.array([[0.61, 0.73, 0.42, 0.97, 0.77, 0.68],\n",
    "                           [0.80, 0.06, 0.39, 0.11, 0.10, 0.65],\n",
    "                           [0.95, 0.95, 0.70, 0.57, 0.47, 0.98],\n",
    "                           [0.32, 0.08, 0.69, 0.02, 0.89, 0.07],\n",
    "                           [0.58, 0.31, 0.21, 0.03, 0.04, 0.04],\n",
    "                           [0.93, 0.67, 0.84, 0.7, 0.36, 0.08]])\n",
    "x_train_example3 = x_train_example3.reshape((1,6,6,1))\n",
    "y_train = np.array([0.5])\n",
    "\n",
    "print(x_train_example3.shape)\n",
    "print(y_train.shape)"
   ]
  },
  {
   "cell_type": "code",
   "execution_count": 240,
   "metadata": {},
   "outputs": [],
   "source": [
    "# create weights/bias for dense layer\n",
    "dense_weights = np.array([[0.99, 0.93, 0.83, 0.49, 0.59, 0.3, 0.96, 0.72]])\n",
    "dense_weights = dense_weights.reshape(8,1)\n",
    "dense_bias = np.array([1.5])\n",
    "dense_para = [dense_weights, dense_bias]"
   ]
  },
  {
   "cell_type": "code",
   "execution_count": 241,
   "metadata": {},
   "outputs": [],
   "source": [
    "# create weights/bias for convolutional layer\n",
    "Conv2D_weights = np.array([[[0.12, 0.49, 0.89], [0.98, 0.21, 0.89], [0.04, 0.46, 0.64]],\n",
    "                           [[0.47, 0.13, 0.44], [0.91, 0.05, 0.64], [0.26, 0.65, 0.87]]])\n",
    "Conv2D_weights = Conv2D_weights.reshape(3,3,1,2)\n",
    "Conv2D_bias = np.array([0.95, 1.0])\n",
    "Conv2D_para = [Conv2D_weights, Conv2D_bias]"
   ]
  },
  {
   "cell_type": "code",
   "execution_count": 242,
   "metadata": {},
   "outputs": [
    {
     "name": "stdout",
     "output_type": "stream",
     "text": [
      "Model: \"Name\"\n",
      "_________________________________________________________________\n",
      "Layer (type)                 Output Shape              Param #   \n",
      "=================================================================\n",
      "conv2d_24 (Conv2D)           (None, 4, 4, 2)           20        \n",
      "_________________________________________________________________\n",
      "Maxpool (MaxPooling2D)       (None, 2, 2, 2)           0         \n",
      "_________________________________________________________________\n",
      "flatten_19 (Flatten)         (None, 8)                 0         \n",
      "_________________________________________________________________\n",
      "dense_19 (Dense)             (None, 1)                 9         \n",
      "=================================================================\n",
      "Total params: 29\n",
      "Trainable params: 29\n",
      "Non-trainable params: 0\n",
      "_________________________________________________________________\n",
      "None\n"
     ]
    }
   ],
   "source": [
    "# create model\n",
    "model = Sequential(name='Name')\n",
    "model.add(layers.Conv2D(filters=2,kernel_size=3, strides=1,padding='valid',input_shape=(6,6,1), activation = \"sigmoid\"))\n",
    "model.layers[0].set_weights(Conv2D_para)\n",
    "output_conv2d = model.predict(x_train_example3)\n",
    "max_layer = model.add(layers.MaxPooling2D(pool_size=2, strides=2, padding=\"valid\", name=\"Maxpool\"))\n",
    "model.add(layers.Flatten())\n",
    "model.add(layers.Dense(1, activation=\"sigmoid\"))\n",
    "model.layers[3].set_weights(dense_para)\n",
    "print(model.summary())"
   ]
  },
  {
   "cell_type": "code",
   "execution_count": 243,
   "metadata": {},
   "outputs": [],
   "source": [
    "# compile model (configure training process)\n",
    "model.compile(optimizer=keras.optimizers.SGD(learning_rate=0.5, momentum=0.0, nesterov=False), \n",
    "              loss='mean_squared_error')"
   ]
  },
  {
   "cell_type": "code",
   "execution_count": 244,
   "metadata": {},
   "outputs": [
    {
     "name": "stdout",
     "output_type": "stream",
     "text": [
      "Train on 1 samples\n",
      "1/1 [==============================] - 0s 360ms/sample - loss: 0.2492\n"
     ]
    },
    {
     "data": {
      "text/plain": [
       "<tensorflow.python.keras.callbacks.History at 0x6482edad0>"
      ]
     },
     "execution_count": 244,
     "metadata": {},
     "output_type": "execute_result"
    }
   ],
   "source": [
    "# fit model\n",
    "model.fit(x_train_example3, y_train, epochs=1)"
   ]
  },
  {
   "cell_type": "code",
   "execution_count": 247,
   "metadata": {
    "scrolled": false
   },
   "outputs": [
    {
     "name": "stdout",
     "output_type": "stream",
     "text": [
      "Fully Connected Layer:\n",
      "Weights: \n",
      " [[0.9896061 ]\n",
      " [0.92960566]\n",
      " [0.8296091 ]\n",
      " [0.4896032 ]\n",
      " [0.58961123]\n",
      " [0.29960617]\n",
      " [0.9596223 ]\n",
      " [0.71961445]]\n",
      "Bias: [1.4995973]\n",
      "\n",
      "Convolutional Layer:\n",
      "Weights (feature map 1): \n",
      " [[0.11996951 0.8899806  0.20996983]\n",
      " [0.03998502 0.6399962  0.1299894 ]\n",
      " [0.9099624  0.6399651  0.6499711 ]]\n",
      "Bias (feature map 1): 0.94995165\n",
      "\n",
      "Weights (feature map 2): \n",
      " [[0.4899835  0.97998434 0.88998157]\n",
      " [0.4599926  0.46998858 0.4399926 ]\n",
      " [0.04998935 0.25999022 0.86999094]]\n",
      "Bias (feature map 2): 0.99997526\n",
      "\n"
     ]
    }
   ],
   "source": [
    "# print final weights/bias per layer\n",
    "# Fully connected layer\n",
    "weights = model.layers[3].get_weights()[0]\n",
    "bias = model.layers[3].get_weights()[1]\n",
    "\n",
    "print('Fully Connected Layer:')\n",
    "print(\"Weights: \\n\", weights)\n",
    "print('Bias:', bias)\n",
    "print()\n",
    "\n",
    "# Conv layer\n",
    "weights = model.layers[0].get_weights()[0]\n",
    "fm_1 = weights.reshape(9,2)[:,0].reshape(3,3)\n",
    "fm_1_bias = model.layers[0].get_weights()[1][0]\n",
    "fm_2 = weights.reshape(9,2)[:,1].reshape(3,3)\n",
    "fm_2_bias = model.layers[0].get_weights()[1][1]\n",
    "\n",
    "print('Convolutional Layer:')\n",
    "print(\"Weights (feature map 1): \\n\", fm_1)\n",
    "print('Bias (feature map 1):', fm_1_bias)\n",
    "print()\n",
    "print(\"Weights (feature map 2): \\n\", fm_2)\n",
    "print('Bias (feature map 2):', fm_2_bias)\n",
    "print()"
   ]
  },
  {
   "cell_type": "code",
   "execution_count": null,
   "metadata": {},
   "outputs": [],
   "source": []
  }
 ],
 "metadata": {
  "kernelspec": {
   "display_name": "Python 3",
   "language": "python",
   "name": "python3"
  },
  "language_info": {
   "codemirror_mode": {
    "name": "ipython",
    "version": 3
   },
   "file_extension": ".py",
   "mimetype": "text/x-python",
   "name": "python",
   "nbconvert_exporter": "python",
   "pygments_lexer": "ipython3",
   "version": "3.7.6"
  }
 },
 "nbformat": 4,
 "nbformat_minor": 4
}
