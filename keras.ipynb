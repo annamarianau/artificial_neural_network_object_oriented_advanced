{
 "cells": [
  {
   "cell_type": "code",
   "execution_count": 32,
   "metadata": {},
   "outputs": [],
   "source": [
    "from tensorflow import keras\n",
    "from tensorflow.keras.models import Sequential\n",
    "from tensorflow.keras import layers\n",
    "import numpy as np"
   ]
  },
  {
   "cell_type": "code",
   "execution_count": 29,
   "metadata": {},
   "outputs": [],
   "source": [
    "# build model\n",
    "model = Sequential()\n",
    "model.add(layers.Conv2D(filters=2, kernel_size=(3,3), strides=1, padding='valid',\n",
    "                       input_shape=(6,6,1)))\n",
    "model.add(layers.MaxPooling2D(pool_size=(2,2), strides=2, padding='valid'))\n",
    "model.add(layers.Flatten())\n",
    "model.add(layers.Dense(units=1, activation='sigmoid'))"
   ]
  },
  {
   "cell_type": "code",
   "execution_count": 38,
   "metadata": {},
   "outputs": [
    {
     "name": "stdout",
     "output_type": "stream",
     "text": [
      "Model: \"sequential_4\"\n",
      "_________________________________________________________________\n",
      "Layer (type)                 Output Shape              Param #   \n",
      "=================================================================\n",
      "conv2d_8 (Conv2D)            (None, 4, 4, 2)           20        \n",
      "_________________________________________________________________\n",
      "max_pooling2d_3 (MaxPooling2 (None, 2, 2, 2)           0         \n",
      "_________________________________________________________________\n",
      "flatten_2 (Flatten)          (None, 8)                 0         \n",
      "_________________________________________________________________\n",
      "dense_2 (Dense)              (None, 1)                 9         \n",
      "=================================================================\n",
      "Total params: 29\n",
      "Trainable params: 29\n",
      "Non-trainable params: 0\n",
      "_________________________________________________________________\n"
     ]
    }
   ],
   "source": [
    "model.summary()"
   ]
  },
  {
   "cell_type": "code",
   "execution_count": 65,
   "metadata": {},
   "outputs": [],
   "source": [
    "# compile model (configure training process)\n",
    "model.compile(optimizer='adam', loss='mean_squared_error')"
   ]
  },
  {
   "cell_type": "code",
   "execution_count": 68,
   "metadata": {},
   "outputs": [
    {
     "name": "stdout",
     "output_type": "stream",
     "text": [
      "(1, 6, 6, 1)\n",
      "(1,)\n"
     ]
    }
   ],
   "source": [
    "x_train = np.array([[1, 1, 1, 0, 1, 1], \n",
    "           [0, 1, 1, 1, 0, 1],\n",
    "           [0, 0, 1, 1, 1, 0],\n",
    "           [0, 1, 1, 0, 1, 1],\n",
    "           [0, 1, 0, 0, 1, 0],\n",
    "           [1, 1, 1, 0, 0, 1]])\n",
    "x_train = x_train.reshape((1,6,6,1))\n",
    "y_train = np.array([0.5])\n",
    "\n",
    "print(x_train.shape)\n",
    "print(y_train.shape)"
   ]
  },
  {
   "cell_type": "code",
   "execution_count": 74,
   "metadata": {},
   "outputs": [
    {
     "name": "stdout",
     "output_type": "stream",
     "text": [
      "Train on 1 samples\n",
      "\r",
      "1/1 [==============================] - 0s 51ms/sample - loss: 0.0070\n"
     ]
    },
    {
     "data": {
      "text/plain": [
       "<tensorflow.python.keras.callbacks.History at 0x63f477d10>"
      ]
     },
     "execution_count": 74,
     "metadata": {},
     "output_type": "execute_result"
    }
   ],
   "source": [
    "# train model \n",
    "model.fit(x_train, y_train, epochs=1)"
   ]
  },
  {
   "cell_type": "code",
   "execution_count": 78,
   "metadata": {},
   "outputs": [
    {
     "name": "stdout",
     "output_type": "stream",
     "text": [
      "<tensorflow.python.keras.layers.convolutional.Conv2D object at 0x63ecbb2d0>\n",
      "[array([[[[ 0.09374538, -0.3726849 ]],\n",
      "\n",
      "        [[ 0.26043886, -0.06130242]],\n",
      "\n",
      "        [[-0.17510813, -0.10005634]]],\n",
      "\n",
      "\n",
      "       [[[ 0.08493897, -0.14595996]],\n",
      "\n",
      "        [[-0.42953137, -0.4728081 ]],\n",
      "\n",
      "        [[-0.2852714 ,  0.09204923]]],\n",
      "\n",
      "\n",
      "       [[[-0.35528582, -0.4657847 ]],\n",
      "\n",
      "        [[ 0.06794658, -0.23564291]],\n",
      "\n",
      "        [[ 0.16014418, -0.44795057]]]], dtype=float32), array([-0.00199851,  0.00199748], dtype=float32)]\n",
      "\n",
      "<tensorflow.python.keras.layers.pooling.MaxPooling2D object at 0x63db2d610>\n",
      "[]\n",
      "\n",
      "<tensorflow.python.keras.layers.core.Flatten object at 0x63db2d850>\n",
      "[]\n",
      "\n",
      "<tensorflow.python.keras.layers.core.Dense object at 0x63e1b6a90>\n",
      "[array([[-0.46282786],\n",
      "       [ 0.09887275],\n",
      "       [-0.14124459],\n",
      "       [ 0.13928916],\n",
      "       [ 0.01955085],\n",
      "       [-0.673336  ],\n",
      "       [-0.4663566 ],\n",
      "       [ 0.66080636]], dtype=float32), array([0.00199857], dtype=float32)]\n",
      "\n"
     ]
    }
   ],
   "source": [
    "for layer in model.layers:\n",
    "    print(layer)\n",
    "    print(layer.get_weights())\n",
    "    print()"
   ]
  },
  {
   "cell_type": "code",
   "execution_count": null,
   "metadata": {},
   "outputs": [],
   "source": []
  }
 ],
 "metadata": {
  "kernelspec": {
   "display_name": "Python 3",
   "language": "python",
   "name": "python3"
  },
  "language_info": {
   "codemirror_mode": {
    "name": "ipython",
    "version": 3
   },
   "file_extension": ".py",
   "mimetype": "text/x-python",
   "name": "python",
   "nbconvert_exporter": "python",
   "pygments_lexer": "ipython3",
   "version": "3.7.6"
  }
 },
 "nbformat": 4,
 "nbformat_minor": 4
}
