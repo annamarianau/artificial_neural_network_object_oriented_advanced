{
 "cells": [
  {
   "cell_type": "code",
   "execution_count": 57,
   "metadata": {},
   "outputs": [],
   "source": [
    "import tensorflow as tf\n",
    "from tensorflow import keras\n",
    "from tensorflow.keras.models import Sequential\n",
    "from tensorflow.keras import layers\n",
    "import numpy as np"
   ]
  },
  {
   "cell_type": "markdown",
   "metadata": {},
   "source": [
    "# Example 1"
   ]
  },
  {
   "cell_type": "markdown",
   "metadata": {},
   "source": [
    "Convolutional Neural Network with 2D Input\n",
    "Input: 5x5\n",
    "Con2D: Kernel=1, Size=3x3, Stride=1\n",
    "Flatten:\n",
    "SingleNeuron:"
   ]
  },
  {
   "cell_type": "code",
   "execution_count": 72,
   "metadata": {},
   "outputs": [
    {
     "name": "stdout",
     "output_type": "stream",
     "text": [
      "(1, 5, 5, 1)\n",
      "(1,)\n"
     ]
    }
   ],
   "source": [
    "x_train = np.array([[0.02, 0.21, 0.07, 0.17, 0.78],\n",
    "                          [0.09, 0.25, 0.78, 0.04, 0.24],\n",
    "                          [0.97, 0.29, 0.37, 0.27, 0.82],\n",
    "                          [1.00, 0.29, 0.75, 0.62, 0.56],\n",
    "                          [0.88, 0.65, 0.09, 0.99, 0.87]])\n",
    "x_train = x_train.reshape((1,5,5,1))\n",
    "y_train = np.array([0.5])\n",
    "\n",
    "print(x_train.shape)\n",
    "print(y_train.shape)"
   ]
  },
  {
   "cell_type": "code",
   "execution_count": 73,
   "metadata": {},
   "outputs": [
    {
     "name": "stdout",
     "output_type": "stream",
     "text": [
      "[array([[0.99],\n",
      "       [0.93],\n",
      "       [0.83],\n",
      "       [0.49],\n",
      "       [0.59],\n",
      "       [0.3 ],\n",
      "       [0.96],\n",
      "       [0.72],\n",
      "       [0.8 ]]), array([1.5])]\n"
     ]
    }
   ],
   "source": [
    "dense_weights = np.array([[0.99, 0.93, 0.83, 0.49, 0.59, 0.3, 0.96, 0.72, 0.8]])\n",
    "dense_weights = dense_weights.reshape(9,1)\n",
    "dense_bias = np.array([1.5])\n",
    "dense_para = [dense_weights, dense_bias]\n",
    "print(dense_para)"
   ]
  },
  {
   "cell_type": "code",
   "execution_count": 74,
   "metadata": {},
   "outputs": [
    {
     "name": "stdout",
     "output_type": "stream",
     "text": [
      "[array([[[[0.12]],\n",
      "\n",
      "        [[0.89]],\n",
      "\n",
      "        [[0.21]]],\n",
      "\n",
      "\n",
      "       [[[0.04]],\n",
      "\n",
      "        [[0.64]],\n",
      "\n",
      "        [[0.13]]],\n",
      "\n",
      "\n",
      "       [[[0.91]],\n",
      "\n",
      "        [[0.05]],\n",
      "\n",
      "        [[0.64]]]]), array([1])]\n"
     ]
    }
   ],
   "source": [
    "Conv2D_weights = np.array([[[0.12, 0.89, 0.21], [0.04, 0.64, 0.13], [0.91, 0.05, 0.64]]])\n",
    "Conv2D_weights = Conv2D_weights.reshape(3,3,1,1)\n",
    "Conv2D_bias = np.array([1])\n",
    "Conv2D_para = [Conv2D_weights, Conv2D_bias]\n",
    "print(Conv2D_para)"
   ]
  },
  {
   "cell_type": "code",
   "execution_count": 75,
   "metadata": {},
   "outputs": [
    {
     "name": "stdout",
     "output_type": "stream",
     "text": [
      "Model: \"sequential_2\"\n",
      "_________________________________________________________________\n",
      "Layer (type)                 Output Shape              Param #   \n",
      "=================================================================\n",
      "conv2d_10 (Conv2D)           (None, 3, 3, 1)           10        \n",
      "=================================================================\n",
      "Total params: 10\n",
      "Trainable params: 10\n",
      "Non-trainable params: 0\n",
      "_________________________________________________________________\n",
      "None\n",
      "[[[[0.9310544 ]\n",
      "   [0.89020145]\n",
      "   [0.9077528 ]]\n",
      "\n",
      "  [[0.9558117 ]\n",
      "   [0.93786526]\n",
      "   [0.9272841 ]]\n",
      "\n",
      "  [[0.9350025 ]\n",
      "   [0.961676  ]\n",
      "   [0.9336836 ]]]]\n",
      "Model: \"sequential_2\"\n",
      "_________________________________________________________________\n",
      "Layer (type)                 Output Shape              Param #   \n",
      "=================================================================\n",
      "conv2d_10 (Conv2D)           (None, 3, 3, 1)           10        \n",
      "_________________________________________________________________\n",
      "flatten_7 (Flatten)          (None, 9)                 0         \n",
      "=================================================================\n",
      "Total params: 10\n",
      "Trainable params: 10\n",
      "Non-trainable params: 0\n",
      "_________________________________________________________________\n",
      "None\n",
      "Model: \"sequential_2\"\n",
      "_________________________________________________________________\n",
      "Layer (type)                 Output Shape              Param #   \n",
      "=================================================================\n",
      "conv2d_10 (Conv2D)           (None, 3, 3, 1)           10        \n",
      "_________________________________________________________________\n",
      "flatten_7 (Flatten)          (None, 9)                 0         \n",
      "_________________________________________________________________\n",
      "dense_7 (Dense)              (None, 1)                 10        \n",
      "=================================================================\n",
      "Total params: 20\n",
      "Trainable params: 20\n",
      "Non-trainable params: 0\n",
      "_________________________________________________________________\n",
      "None\n"
     ]
    }
   ],
   "source": [
    "model = Sequential()\n",
    "model.add(layers.Conv2D(filters=1,kernel_size=3,strides=1,padding='valid',input_shape=(5,5,1),activation=\"sigmoid\"))\n",
    "model.layers[0].set_weights(Conv2D_para)\n",
    "print(model.summary())\n",
    "print(model.predict(x_train))\n",
    "model.add(layers.Flatten())\n",
    "print(model.summary())\n",
    "model.add(layers.Dense(1, activation=\"sigmoid\"))\n",
    "model.layers[2].set_weights(dense_para)\n",
    "print(model.summary())"
   ]
  },
  {
   "cell_type": "code",
   "execution_count": 76,
   "metadata": {},
   "outputs": [],
   "source": [
    "# compile model (configure training process)\n",
    "model.compile(optimizer=keras.optimizers.SGD(learning_rate=0.25, momentum=0.0, nesterov=False), loss='mean_squared_error')"
   ]
  },
  {
   "cell_type": "code",
   "execution_count": 77,
   "metadata": {},
   "outputs": [
    {
     "name": "stdout",
     "output_type": "stream",
     "text": [
      "Train on 1 samples\n",
      "1/1 [==============================] - 0s 340ms/sample - loss: 0.2495\n"
     ]
    },
    {
     "data": {
      "text/plain": [
       "<tensorflow.python.keras.callbacks.History at 0x1748d6175c8>"
      ]
     },
     "execution_count": 77,
     "metadata": {},
     "output_type": "execute_result"
    }
   ],
   "source": [
    "model.fit(x_train, y_train, epochs=1)"
   ]
  },
  {
   "cell_type": "code",
   "execution_count": 78,
   "metadata": {},
   "outputs": [
    {
     "data": {
      "text/plain": [
       "[array([[[[0.11998391]],\n",
       " \n",
       "         [[0.88998747]],\n",
       " \n",
       "         [[0.20998009]]],\n",
       " \n",
       " \n",
       "        [[[0.0399732 ]],\n",
       " \n",
       "         [[0.63997823]],\n",
       " \n",
       "         [[0.12997703]]],\n",
       " \n",
       " \n",
       "        [[[0.90997213]],\n",
       " \n",
       "         [[0.04997546]],\n",
       " \n",
       "         [[0.6399726 ]]]], dtype=float32),\n",
       " array([0.99994797], dtype=float32)]"
      ]
     },
     "execution_count": 78,
     "metadata": {},
     "output_type": "execute_result"
    }
   ],
   "source": [
    "model.layers[0].get_weights()"
   ]
  },
  {
   "cell_type": "markdown",
   "metadata": {},
   "source": [
    "# Example 2"
   ]
  },
  {
   "cell_type": "markdown",
   "metadata": {},
   "source": [
    "Convolutional Neural Network with 2D Input\n",
    "Input: 5x5\n",
    "Con2D: Kernel=1, Size=3x3, Stride=1\n",
    "Con2D: Kernel=1, Size=3x3, Stride=1\n",
    "Flatten:\n",
    "SingleNeuron:"
   ]
  },
  {
   "cell_type": "code",
   "execution_count": null,
   "metadata": {},
   "outputs": [],
   "source": [
    "x_train = np.array([[0.02, 0.21, 0.07, 0.17, 0.78],\n",
    "                          [0.09, 0.25, 0.78, 0.04, 0.24],\n",
    "                          [0.97, 0.29, 0.37, 0.27, 0.82],\n",
    "                          [1.00, 0.29, 0.75, 0.62, 0.56],\n",
    "                          [0.88, 0.65, 0.09, 0.99, 0.87]])\n",
    "x_train = x_train.reshape((1,5,5,1))\n",
    "y_train = np.array([0.5])\n",
    "\n",
    "print(x_train.shape)\n",
    "print(y_train.shape)"
   ]
  },
  {
   "cell_type": "code",
   "execution_count": null,
   "metadata": {},
   "outputs": [],
   "source": [
    "dense_weights = np.array([[0.5]])\n",
    "dense_weights = dense_weights.reshape(1,1)\n",
    "dense_bias = np.array([1.5])\n",
    "dense_para = [dense_weights, dense_bias]\n",
    "\n",
    "print(dense_para)"
   ]
  },
  {
   "cell_type": "code",
   "execution_count": null,
   "metadata": {},
   "outputs": [],
   "source": [
    "Conv2D_layer1_weights = np.array([[[0.12, 0.89, 0.21], [0.04, 0.64, 0.13], [0.91, 0.05, 0.64]]])\n",
    "Conv2D_layer1_weights = Conv2D_layer1_weights.reshape(3,3,1,1)\n",
    "Conv2D_layer1_bias = np.array([2])\n",
    "\n",
    "Conv2D_layer1_para = [Conv2D_layer1_weights, Conv2D_layer1_bias]\n",
    "print(Conv2D_layer1_para)"
   ]
  },
  {
   "cell_type": "code",
   "execution_count": null,
   "metadata": {},
   "outputs": [],
   "source": [
    "Conv2D_layer2_weights = np.array([[[0.49, 0.98, 0.89], [0.46, 0.47, 0.44], [0.26, 0.65, 0.87]]])\n",
    "Conv2D_layer2_weights = Conv2D_layer2_weights.reshape(3,3,1,1)\n",
    "Conv2D_layer2_bias = np.array([2])\n",
    "\n",
    "Conv2D_layer2_para = [Conv2D_layer2_weights, Conv2D_layer2_bias]\n",
    "print(Conv2D_layer2_para)"
   ]
  },
  {
   "cell_type": "code",
   "execution_count": null,
   "metadata": {},
   "outputs": [],
   "source": [
    "model = Sequential()\n",
    "model.add(layers.Conv2D(filters=1,kernel_size=3,strides=1,padding='valid',input_shape=(5,5,1),activation=\"sigmoid\"))\n",
    "model.layers[0].set_weights(Conv2D_layer1_para)\n",
    "output = model.predict(x_train)\n",
    "print(output)\n",
    "model.add(layers.Conv2D(filters=1,kernel_size=3,strides=1,padding='valid',activation=\"sigmoid\"))\n",
    "model.layers[1].set_weights(Conv2D_layer2_para)\n",
    "model.add(layers.Flatten())\n",
    "model.add(layers.Dense(1, activation=\"sigmoid\"))\n",
    "model.layers[3].set_weights(dense_para)\n",
    "print(model.layers[3].get_weights())\n",
    "print(model.summary())"
   ]
  },
  {
   "cell_type": "code",
   "execution_count": null,
   "metadata": {},
   "outputs": [],
   "source": [
    "# compile model (configure training process)\n",
    "model.compile(optimizer=keras.optimizers.SGD(learning_rate=0.25, momentum=0.0, nesterov=False), loss='mean_squared_error')"
   ]
  },
  {
   "cell_type": "code",
   "execution_count": null,
   "metadata": {},
   "outputs": [],
   "source": [
    "model.fit(x_train, y_train, epochs=1)"
   ]
  },
  {
   "cell_type": "code",
   "execution_count": null,
   "metadata": {},
   "outputs": [],
   "source": [
    "model.layers[0].get_weights()"
   ]
  },
  {
   "cell_type": "markdown",
   "metadata": {},
   "source": [
    "# Example 3"
   ]
  },
  {
   "cell_type": "markdown",
   "metadata": {},
   "source": [
    "Convolutional Neural Network with 2D Input\n",
    "Input: 5x5\n",
    "Con2D: Kernel=1, Size=3x3, Stride=1\n",
    "Max: Kernel=1, Size=2x2, Stride=2\n",
    "Flatten:\n",
    "SingleNeuron:"
   ]
  },
  {
   "cell_type": "code",
   "execution_count": 58,
   "metadata": {},
   "outputs": [
    {
     "name": "stdout",
     "output_type": "stream",
     "text": [
      "(1, 6, 6, 1)\n",
      "(1,)\n"
     ]
    }
   ],
   "source": [
    "x_train_example3 = np.array([[0.61, 0.73, 0.42, 0.97, 0.77, 0.68],\n",
    "                           [0.80, 0.06, 0.39, 0.11, 0.10, 0.65],\n",
    "                           [0.95, 0.95, 0.70, 0.57, 0.47, 0.98],\n",
    "                           [0.32, 0.08, 0.69, 0.02, 0.89, 0.07],\n",
    "                           [0.58, 0.31, 0.21, 0.03, 0.04, 0.04],\n",
    "                           [0.93, 0.67, 0.84, 0.7, 0.36, 0.08]])\n",
    "x_train_example3 = x_train_example3.reshape((1,6,6,1))\n",
    "y_train = np.array([0.5])\n",
    "\n",
    "print(x_train_example3.shape)\n",
    "print(y_train.shape)"
   ]
  },
  {
   "cell_type": "code",
   "execution_count": 59,
   "metadata": {},
   "outputs": [
    {
     "name": "stdout",
     "output_type": "stream",
     "text": [
      "[array([[0.99],\n",
      "       [0.93],\n",
      "       [0.83],\n",
      "       [0.49],\n",
      "       [0.59],\n",
      "       [0.3 ],\n",
      "       [0.96],\n",
      "       [0.72]]), array([1.5])]\n"
     ]
    }
   ],
   "source": [
    "dense_weights = np.array([[0.99, 0.93, 0.83, 0.49, 0.59, 0.3, 0.96, 0.72]])\n",
    "dense_weights = dense_weights.reshape(8,1)\n",
    "dense_bias = np.array([1.5])\n",
    "dense_para = [dense_weights, dense_bias]\n",
    "print(dense_para)"
   ]
  },
  {
   "cell_type": "code",
   "execution_count": 60,
   "metadata": {},
   "outputs": [
    {
     "name": "stdout",
     "output_type": "stream",
     "text": [
      "[array([[[[0.12, 0.49]],\n",
      "\n",
      "        [[0.89, 0.98]],\n",
      "\n",
      "        [[0.21, 0.89]]],\n",
      "\n",
      "\n",
      "       [[[0.04, 0.46]],\n",
      "\n",
      "        [[0.64, 0.47]],\n",
      "\n",
      "        [[0.13, 0.44]]],\n",
      "\n",
      "\n",
      "       [[[0.91, 0.05]],\n",
      "\n",
      "        [[0.64, 0.26]],\n",
      "\n",
      "        [[0.65, 0.87]]]]), array([0.95, 1.  ])]\n"
     ]
    }
   ],
   "source": [
    "Conv2D_weights = np.array([[[0.12, 0.49, 0.89], [0.98, 0.21, 0.89], [0.04, 0.46, 0.64]],\n",
    "                           [[0.47, 0.13, 0.44], [0.91, 0.05, 0.64], [0.26, 0.65, 0.87]]])\n",
    "Conv2D_weights = Conv2D_weights.reshape(3,3,1,2)\n",
    "Conv2D_bias = np.array([0.95, 1.0])\n",
    "Conv2D_para = [Conv2D_weights, Conv2D_bias]\n",
    "print(Conv2D_para)"
   ]
  },
  {
   "cell_type": "code",
   "execution_count": 61,
   "metadata": {},
   "outputs": [
    {
     "name": "stdout",
     "output_type": "stream",
     "text": [
      "[[[[0.97832537 0.9793546 ]\n",
      "   [0.97246563 0.9738472 ]\n",
      "   [0.9686806  0.97608167]\n",
      "   [0.97079855 0.9855428 ]]\n",
      "\n",
      "  [[0.93756735 0.97408056]\n",
      "   [0.9179565  0.938607  ]\n",
      "   [0.9420676  0.95251083]\n",
      "   [0.9066161  0.94969326]]\n",
      "\n",
      "  [[0.95576096 0.97812307]\n",
      "   [0.93643993 0.9579083 ]\n",
      "   [0.8841572  0.95653665]\n",
      "   [0.9089516  0.9575926 ]]\n",
      "\n",
      "  [[0.96354353 0.96462387]\n",
      "   [0.96547383 0.9452463 ]\n",
      "   [0.938005   0.94349706]\n",
      "   [0.93764925 0.89959204]]]]\n",
      "[array([[0.99],\n",
      "       [0.93],\n",
      "       [0.83],\n",
      "       [0.49],\n",
      "       [0.59],\n",
      "       [0.3 ],\n",
      "       [0.96],\n",
      "       [0.72]], dtype=float32), array([1.5], dtype=float32)]\n",
      "Model: \"Name\"\n",
      "_________________________________________________________________\n",
      "Layer (type)                 Output Shape              Param #   \n",
      "=================================================================\n",
      "conv2d_7 (Conv2D)            (None, 4, 4, 2)           20        \n",
      "_________________________________________________________________\n",
      "Maxpool (MaxPooling2D)       (None, 2, 2, 2)           0         \n",
      "_________________________________________________________________\n",
      "flatten_7 (Flatten)          (None, 8)                 0         \n",
      "_________________________________________________________________\n",
      "dense_7 (Dense)              (None, 1)                 9         \n",
      "=================================================================\n",
      "Total params: 29\n",
      "Trainable params: 29\n",
      "Non-trainable params: 0\n",
      "_________________________________________________________________\n",
      "None\n"
     ]
    }
   ],
   "source": [
    "model = Sequential(name='Name')\n",
    "model.add(layers.Conv2D(filters=2,kernel_size=3, strides=1,padding='valid',input_shape=(6,6,1), activation = \"sigmoid\"))\n",
    "model.layers[0].set_weights(Conv2D_para)\n",
    "output_conv2d = model.predict(x_train_example3)\n",
    "print(output_conv2d)\n",
    "max_layer = model.add(layers.MaxPooling2D(pool_size=2, strides=2, padding=\"valid\", name=\"Maxpool\"))\n",
    "model.add(layers.Flatten())\n",
    "model.add(layers.Dense(1, activation=\"sigmoid\"))\n",
    "model.layers[3].set_weights(dense_para)\n",
    "print(model.layers[3].get_weights())\n",
    "print(model.summary())"
   ]
  },
  {
   "cell_type": "code",
   "execution_count": null,
   "metadata": {},
   "outputs": [],
   "source": []
  },
  {
   "cell_type": "code",
   "execution_count": null,
   "metadata": {},
   "outputs": [],
   "source": []
  },
  {
   "cell_type": "code",
   "execution_count": 62,
   "metadata": {},
   "outputs": [],
   "source": [
    "model.compile(optimizer=keras.optimizers.SGD(learning_rate=0.25, momentum=0.0, nesterov=False)\n",
    ", loss='mean_squared_error')"
   ]
  },
  {
   "cell_type": "code",
   "execution_count": 63,
   "metadata": {},
   "outputs": [
    {
     "name": "stdout",
     "output_type": "stream",
     "text": [
      "Train on 1 samples\n",
      "1/1 [==============================] - 0s 324ms/sample - loss: 0.2492\n"
     ]
    },
    {
     "data": {
      "text/plain": [
       "<tensorflow.python.keras.callbacks.History at 0x2b9ad510988>"
      ]
     },
     "execution_count": 63,
     "metadata": {},
     "output_type": "execute_result"
    }
   ],
   "source": [
    "model.fit(x_train_example3, y_train, epochs=1)"
   ]
  },
  {
   "cell_type": "code",
   "execution_count": 64,
   "metadata": {
    "scrolled": true
   },
   "outputs": [
    {
     "data": {
      "text/plain": [
       "[array([[0.9898031 ],\n",
       "        [0.92980283],\n",
       "        [0.82980454],\n",
       "        [0.48980162],\n",
       "        [0.5898056 ],\n",
       "        [0.2998031 ],\n",
       "        [0.95981115],\n",
       "        [0.71980727]], dtype=float32),\n",
       " array([1.4997987], dtype=float32)]"
      ]
     },
     "execution_count": 64,
     "metadata": {},
     "output_type": "execute_result"
    }
   ],
   "source": [
    "model.layers[3].get_weights()"
   ]
  },
  {
   "cell_type": "code",
   "execution_count": null,
   "metadata": {},
   "outputs": [],
   "source": []
  },
  {
   "cell_type": "code",
   "execution_count": null,
   "metadata": {},
   "outputs": [],
   "source": []
  }
 ],
 "metadata": {
  "kernelspec": {
   "display_name": "Python 3",
   "language": "python",
   "name": "python3"
  },
  "language_info": {
   "codemirror_mode": {
    "name": "ipython",
    "version": 3
   },
   "file_extension": ".py",
   "mimetype": "text/x-python",
   "name": "python",
   "nbconvert_exporter": "python",
   "pygments_lexer": "ipython3",
   "version": "3.7.6"
  }
 },
 "nbformat": 4,
 "nbformat_minor": 4
}
