{
 "cells": [
  {
   "cell_type": "code",
   "execution_count": 1,
   "metadata": {},
   "outputs": [
    {
     "name": "stderr",
     "output_type": "stream",
     "text": [
      "Using TensorFlow backend.\n"
     ]
    }
   ],
   "source": [
    "from keras.models import Sequential\n",
    "from keras import layers\n",
    "import numpy as np"
   ]
  },
  {
   "cell_type": "code",
   "execution_count": 2,
   "metadata": {},
   "outputs": [],
   "source": [
    "from keras.models import Model"
   ]
  },
  {
   "cell_type": "code",
   "execution_count": 3,
   "metadata": {},
   "outputs": [],
   "source": [
    "model = Sequential(name='Name')"
   ]
  },
  {
   "cell_type": "code",
   "execution_count": 4,
   "metadata": {},
   "outputs": [],
   "source": [
    "model.add(layers.Conv2D(filters=2,kernel_size=3, strides=1,padding='valid',input_shape=(6,6,1), activation = \"sigmoid\"))"
   ]
  },
  {
   "cell_type": "code",
   "execution_count": null,
   "metadata": {},
   "outputs": [],
   "source": []
  },
  {
   "cell_type": "code",
   "execution_count": 5,
   "metadata": {},
   "outputs": [
    {
     "name": "stdout",
     "output_type": "stream",
     "text": [
      "[array([[[[0.12, 0.49]],\n",
      "\n",
      "        [[0.89, 0.98]],\n",
      "\n",
      "        [[0.21, 0.89]]],\n",
      "\n",
      "\n",
      "       [[[0.04, 0.46]],\n",
      "\n",
      "        [[0.64, 0.47]],\n",
      "\n",
      "        [[0.13, 0.44]]],\n",
      "\n",
      "\n",
      "       [[[0.91, 0.05]],\n",
      "\n",
      "        [[0.64, 0.26]],\n",
      "\n",
      "        [[0.65, 0.87]]]]), array([0.95, 1.  ])]\n"
     ]
    }
   ],
   "source": [
    "Conv2D_weights = np.array([[[0.12, 0.49, 0.89], [0.98, 0.21, 0.89], [0.04, 0.46, 0.64]],\n",
    "                           [[0.47, 0.13, 0.44], [0.91, 0.05, 0.64], [0.26, 0.65, 0.87]]])\n",
    "Conv2D_weights = Conv2D_weights.reshape(3,3,1,2)\n",
    "Conv2D_bias = np.array([0.95, 1.0])\n",
    "Conv2D_para = [Conv2D_weights, Conv2D_bias]\n",
    "print(Conv2D_para)"
   ]
  },
  {
   "cell_type": "code",
   "execution_count": 6,
   "metadata": {},
   "outputs": [
    {
     "name": "stdout",
     "output_type": "stream",
     "text": [
      "(1, 6, 6, 1)\n",
      "(1,)\n"
     ]
    }
   ],
   "source": [
    "x_train_example3 = np.array([[0.61, 0.73, 0.42, 0.97, 0.77, 0.68],\n",
    "                           [0.80, 0.06, 0.39, 0.11, 0.10, 0.65],\n",
    "                           [0.95, 0.95, 0.70, 0.57, 0.47, 0.98],\n",
    "                           [0.32, 0.08, 0.69, 0.02, 0.89, 0.07],\n",
    "                           [0.58, 0.31, 0.21, 0.03, 0.04, 0.04],\n",
    "                           [0.93, 0.67, 0.84, 0.7, 0.36, 0.08]])\n",
    "x_train_example3 = x_train_example3.reshape((1,6,6,1))\n",
    "y_train = np.array([0.5])\n",
    "\n",
    "print(x_train_example3.shape)\n",
    "print(y_train.shape)"
   ]
  },
  {
   "cell_type": "code",
   "execution_count": 7,
   "metadata": {},
   "outputs": [
    {
     "name": "stdout",
     "output_type": "stream",
     "text": [
      "[array([[0.99],\n",
      "       [0.93],\n",
      "       [0.83],\n",
      "       [0.49],\n",
      "       [0.59],\n",
      "       [0.3 ],\n",
      "       [0.96],\n",
      "       [0.72]]), array([1.5])]\n"
     ]
    }
   ],
   "source": [
    "dense_weights = np.array([[0.99, 0.93, 0.83, 0.49, 0.59, 0.3, 0.96, 0.72]])\n",
    "dense_weights = dense_weights.reshape(8,1)\n",
    "dense_bias = np.array([1.5])\n",
    "dense_para = [dense_weights, dense_bias]\n",
    "print(dense_para)"
   ]
  },
  {
   "cell_type": "code",
   "execution_count": 8,
   "metadata": {},
   "outputs": [
    {
     "name": "stdout",
     "output_type": "stream",
     "text": [
      "[[[[0.97832537 0.9793546 ]\n",
      "   [0.97246563 0.9738472 ]\n",
      "   [0.9686806  0.97608167]\n",
      "   [0.97079855 0.9855428 ]]\n",
      "\n",
      "  [[0.93756735 0.97408056]\n",
      "   [0.9179565  0.938607  ]\n",
      "   [0.9420676  0.95251083]\n",
      "   [0.9066161  0.94969326]]\n",
      "\n",
      "  [[0.95576096 0.97812307]\n",
      "   [0.93643993 0.9579083 ]\n",
      "   [0.8841572  0.95653665]\n",
      "   [0.9089516  0.9575926 ]]\n",
      "\n",
      "  [[0.96354353 0.96462387]\n",
      "   [0.96547383 0.9452463 ]\n",
      "   [0.938005   0.94349706]\n",
      "   [0.93764925 0.89959204]]]]\n",
      "[array([[0.99],\n",
      "       [0.93],\n",
      "       [0.83],\n",
      "       [0.49],\n",
      "       [0.59],\n",
      "       [0.3 ],\n",
      "       [0.96],\n",
      "       [0.72]], dtype=float32), array([1.5], dtype=float32)]\n",
      "Model: \"Name\"\n",
      "_________________________________________________________________\n",
      "Layer (type)                 Output Shape              Param #   \n",
      "=================================================================\n",
      "conv2d_1 (Conv2D)            (None, 4, 4, 2)           20        \n",
      "_________________________________________________________________\n",
      "Maxpool (MaxPooling2D)       (None, 2, 2, 2)           0         \n",
      "_________________________________________________________________\n",
      "flatten_1 (Flatten)          (None, 8)                 0         \n",
      "_________________________________________________________________\n",
      "dense_1 (Dense)              (None, 1)                 9         \n",
      "=================================================================\n",
      "Total params: 29\n",
      "Trainable params: 29\n",
      "Non-trainable params: 0\n",
      "_________________________________________________________________\n",
      "None\n"
     ]
    }
   ],
   "source": [
    "model.layers[0].set_weights(Conv2D_para)\n",
    "output_conv2d = model.predict(x_train_example3)\n",
    "print(output_conv2d)\n",
    "max_layer = model.add(layers.MaxPooling2D(pool_size=2, strides=2, padding=\"valid\", name=\"Maxpool\"))\n",
    "model.add(layers.Flatten())\n",
    "model.add(layers.Dense(1, activation=\"sigmoid\"))\n",
    "model.layers[3].set_weights(dense_para)\n",
    "print(model.layers[3].get_weights())\n",
    "print(model.summary())"
   ]
  },
  {
   "cell_type": "code",
   "execution_count": 14,
   "metadata": {},
   "outputs": [],
   "source": [
    "layer_name = 'conv2d_1'\n",
    "intermediate_layer_model = Model(inputs=model.input,\n",
    "                                 outputs=model.get_layer(layer_name).output)\n",
    "intermediate_output = intermediate_layer_model.predict(x_train_example3)"
   ]
  },
  {
   "cell_type": "code",
   "execution_count": 15,
   "metadata": {},
   "outputs": [
    {
     "name": "stdout",
     "output_type": "stream",
     "text": [
      "[[[[0.97832537 0.9793546 ]\n",
      "   [0.97246563 0.9738472 ]\n",
      "   [0.9686806  0.97608167]\n",
      "   [0.97079855 0.9855428 ]]\n",
      "\n",
      "  [[0.93756735 0.97408056]\n",
      "   [0.9179565  0.938607  ]\n",
      "   [0.9420676  0.95251083]\n",
      "   [0.9066161  0.94969326]]\n",
      "\n",
      "  [[0.95576096 0.97812307]\n",
      "   [0.93643993 0.9579083 ]\n",
      "   [0.8841572  0.95653665]\n",
      "   [0.9089516  0.9575926 ]]\n",
      "\n",
      "  [[0.96354353 0.96462387]\n",
      "   [0.96547383 0.9452463 ]\n",
      "   [0.938005   0.94349706]\n",
      "   [0.93764925 0.89959204]]]]\n"
     ]
    }
   ],
   "source": [
    "print(intermediate_output)"
   ]
  },
  {
   "cell_type": "code",
   "execution_count": 16,
   "metadata": {},
   "outputs": [
    {
     "ename": "NameError",
     "evalue": "name 'keras' is not defined",
     "output_type": "error",
     "traceback": [
      "\u001b[1;31m---------------------------------------------------------------------------\u001b[0m",
      "\u001b[1;31mNameError\u001b[0m                                 Traceback (most recent call last)",
      "\u001b[1;32m<ipython-input-16-6adc45806bea>\u001b[0m in \u001b[0;36m<module>\u001b[1;34m\u001b[0m\n\u001b[0;32m      1\u001b[0m \u001b[1;31m# compile model (configure training process)\u001b[0m\u001b[1;33m\u001b[0m\u001b[1;33m\u001b[0m\u001b[1;33m\u001b[0m\u001b[0m\n\u001b[1;32m----> 2\u001b[1;33m \u001b[0mmodel\u001b[0m\u001b[1;33m.\u001b[0m\u001b[0mcompile\u001b[0m\u001b[1;33m(\u001b[0m\u001b[0mkeras\u001b[0m\u001b[1;33m.\u001b[0m\u001b[0moptimizers\u001b[0m\u001b[1;33m.\u001b[0m\u001b[0mSGD\u001b[0m\u001b[1;33m(\u001b[0m\u001b[0mlearning_rate\u001b[0m\u001b[1;33m=\u001b[0m\u001b[1;36m0.5\u001b[0m\u001b[1;33m,\u001b[0m \u001b[0mmomentum\u001b[0m\u001b[1;33m=\u001b[0m\u001b[1;36m0.0\u001b[0m\u001b[1;33m,\u001b[0m \u001b[0mnesterov\u001b[0m\u001b[1;33m=\u001b[0m\u001b[1;32mFalse\u001b[0m\u001b[1;33m)\u001b[0m\u001b[1;33m,\u001b[0m \u001b[0mloss\u001b[0m\u001b[1;33m=\u001b[0m\u001b[1;34m'mean_squared_error'\u001b[0m\u001b[1;33m)\u001b[0m\u001b[1;33m\u001b[0m\u001b[1;33m\u001b[0m\u001b[0m\n\u001b[0m",
      "\u001b[1;31mNameError\u001b[0m: name 'keras' is not defined"
     ]
    }
   ],
   "source": [
    "# compile model (configure training process)\n",
    "model.compile(keras.optimizers.SGD(learning_rate=0.5, momentum=0.0, nesterov=False), loss='mean_squared_error')"
   ]
  },
  {
   "cell_type": "code",
   "execution_count": null,
   "metadata": {},
   "outputs": [],
   "source": [
    "model.fit(x_train_example3, y_train, epochs=1)"
   ]
  }
 ],
 "metadata": {
  "kernelspec": {
   "display_name": "Python 3",
   "language": "python",
   "name": "python3"
  },
  "language_info": {
   "codemirror_mode": {
    "name": "ipython",
    "version": 3
   },
   "file_extension": ".py",
   "mimetype": "text/x-python",
   "name": "python",
   "nbconvert_exporter": "python",
   "pygments_lexer": "ipython3",
   "version": "3.7.6"
  }
 },
 "nbformat": 4,
 "nbformat_minor": 4
}
